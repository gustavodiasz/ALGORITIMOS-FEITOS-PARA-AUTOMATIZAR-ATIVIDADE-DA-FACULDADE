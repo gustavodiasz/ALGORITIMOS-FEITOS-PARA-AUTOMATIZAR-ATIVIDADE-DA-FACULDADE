{
  "cells": [
    {
      "cell_type": "markdown",
      "metadata": {
        "id": "view-in-github",
        "colab_type": "text"
      },
      "source": [
        "<a href=\"https://colab.research.google.com/github/gustavodiasz/ALGORITIMOS-FEITOS-PARA-AUTOMATIZAR-ATIVIDADES-DA-FACULDADE/blob/main/DIST__ENTRE_COTAS.ipynb\" target=\"_parent\"><img src=\"https://colab.research.google.com/assets/colab-badge.svg\" alt=\"Open In Colab\"/></a>"
      ]
    },
    {
      "cell_type": "markdown",
      "source": [
        "### Esse algoritmo calcula as cotas inteiras entre duas cotas conhecidas de um levantamneto topográfico.  "
      ],
      "metadata": {
        "id": "sCE_s9mvWT9E"
      }
    },
    {
      "cell_type": "markdown",
      "source": [
        "Na diciplina de Deseho Topográfico surgiu a demanda de calcular as cotas inteiras que haviam entre algumas cotas conhecidas, para gerar curvas de nível. Para determinar essas cotas é nescessário que sejam feitas diversas contas de regra de três."
      ],
      "metadata": {
        "id": "eDC_yafwWwI7"
      }
    },
    {
      "cell_type": "code",
      "source": [
        "def cota(inicio, fim, intervalo): \n",
        "\n",
        "    a = inicio                                                  # ESSE TRECHO OBTEM O INICIO E FIM INTEIRO E DECIMAL DA QUADRICULA\n",
        "    b = fim\n",
        "\n",
        "    inicio_dec = inicio - int(inicio)\n",
        "    inicio_int = inicio - inicio_dec\n",
        "                                                                    \n",
        "    fim_dec = fim - int(fim)\n",
        "    fim_int = fim - fim_dec                                     # ESSE TRECHO REALIZA A REGRA DE TRÊS\n",
        "\n",
        "    somador = inicio_int \n",
        "\n",
        "    while somador != fim_int:\n",
        "        \n",
        "        cota_redonda = somador + 1\n",
        "\n",
        "        somador = cota_redonda\n",
        "                                                                \n",
        "        x = (intervalo * (cota_redonda-inicio)) / (fim-inicio)  # FORMULA DA REGRA DE TRÊS\n",
        "\n",
        "        print('DISTANCIA DA COTA INTEIRA VALE: {}'.format(x))"
      ],
      "metadata": {
        "id": "vmMPzuf06flA"
      },
      "execution_count": null,
      "outputs": []
    },
    {
      "cell_type": "code",
      "source": [
        "cota(64.31, 66.43, 28)"
      ],
      "metadata": {
        "colab": {
          "base_uri": "https://localhost:8080/"
        },
        "id": "dRU16E2zL1FU",
        "outputId": "0ef4ea38-415e-438e-ff72-526987ec9cd1"
      },
      "execution_count": null,
      "outputs": [
        {
          "output_type": "stream",
          "name": "stdout",
          "text": [
            "DISTANCIA DA COTA INTEIRA VALE: 9.113207547169761\n",
            "DISTANCIA DA COTA INTEIRA VALE: 22.320754716981053\n"
          ]
        }
      ]
    }
  ],
  "metadata": {
    "colab": {
      "collapsed_sections": [],
      "name": "DIST_ ENTRE COTAS.ipynb",
      "provenance": [],
      "authorship_tag": "ABX9TyNWu+sTY7LTpRkKk0LKLluX",
      "include_colab_link": true
    },
    "kernelspec": {
      "display_name": "Python 3",
      "name": "python3"
    },
    "language_info": {
      "name": "python"
    }
  },
  "nbformat": 4,
  "nbformat_minor": 0
}